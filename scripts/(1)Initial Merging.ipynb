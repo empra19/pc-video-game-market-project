{
 "cells": [
  {
   "cell_type": "code",
   "execution_count": 1,
   "id": "c2cfee6f-e1fb-430f-b6ee-4f889d9ec4ce",
   "metadata": {},
   "outputs": [
    {
     "data": {
      "text/plain": [
       "Index(['name', 'release_date', 'required_age', 'price', 'dlc_count',\n",
       "       'detailed_description', 'about_the_game', 'short_description',\n",
       "       'reviews', 'header_image', 'website', 'support_url', 'support_email',\n",
       "       'windows', 'mac', 'linux', 'metacritic_score', 'metacritic_url',\n",
       "       'achievements', 'recommendations', 'notes', 'supported_languages',\n",
       "       'full_audio_languages', 'packages', 'developers', 'publishers',\n",
       "       'categories', 'genres', 'screenshots', 'movies', 'user_score',\n",
       "       'score_rank', 'positive', 'negative', 'estimated_owners',\n",
       "       'average_playtime_forever', 'average_playtime_2weeks',\n",
       "       'median_playtime_forever', 'median_playtime_2weeks', 'peak_ccu',\n",
       "       'tags'],\n",
       "      dtype='object')"
      ]
     },
     "execution_count": 1,
     "metadata": {},
     "output_type": "execute_result"
    }
   ],
   "source": [
    "import pandas as pd\n",
    "import json\n",
    "\n",
    "# Load the JSON file\n",
    "with open(\"games.json\", \"r\", encoding=\"utf-8\") as f:\n",
    "    data = json.load(f)\n",
    "\n",
    "# Convert to DataFrame\n",
    "df = pd.DataFrame.from_dict(data, orient=\"index\")\n",
    "\n",
    "# Inspect the data\n",
    "df.head()\n",
    "df.columns"
   ]
  },
  {
   "cell_type": "code",
   "execution_count": 2,
   "id": "7e1320d6-ae12-4695-ab10-f5fe020f24b7",
   "metadata": {},
   "outputs": [
    {
     "data": {
      "text/plain": [
       "(3953, 41)"
      ]
     },
     "execution_count": 2,
     "metadata": {},
     "output_type": "execute_result"
    }
   ],
   "source": [
    "filtered_df = df[df['metacritic_score'] != 0]\n",
    "filtered_df.shape"
   ]
  },
  {
   "cell_type": "code",
   "execution_count": 3,
   "id": "c9d883d6-d2c1-426e-a865-e5691e5d8d37",
   "metadata": {},
   "outputs": [
    {
     "data": {
      "text/html": [
       "<div>\n",
       "<style scoped>\n",
       "    .dataframe tbody tr th:only-of-type {\n",
       "        vertical-align: middle;\n",
       "    }\n",
       "\n",
       "    .dataframe tbody tr th {\n",
       "        vertical-align: top;\n",
       "    }\n",
       "\n",
       "    .dataframe thead th {\n",
       "        text-align: right;\n",
       "    }\n",
       "</style>\n",
       "<table border=\"1\" class=\"dataframe\">\n",
       "  <thead>\n",
       "    <tr style=\"text-align: right;\">\n",
       "      <th></th>\n",
       "      <th>name</th>\n",
       "      <th>platform</th>\n",
       "      <th>r-date</th>\n",
       "      <th>score</th>\n",
       "      <th>user score</th>\n",
       "      <th>developer</th>\n",
       "      <th>genre</th>\n",
       "      <th>players</th>\n",
       "      <th>critics</th>\n",
       "      <th>users</th>\n",
       "    </tr>\n",
       "  </thead>\n",
       "  <tbody>\n",
       "    <tr>\n",
       "      <th>0</th>\n",
       "      <td>The Legend of Zelda: Ocarina of Time</td>\n",
       "      <td>Nintendo64</td>\n",
       "      <td>November 23, 1998</td>\n",
       "      <td>99</td>\n",
       "      <td>9.1</td>\n",
       "      <td>Nintendo</td>\n",
       "      <td>Action Adventure,Fantasy</td>\n",
       "      <td>1 Player</td>\n",
       "      <td>22</td>\n",
       "      <td>5749</td>\n",
       "    </tr>\n",
       "    <tr>\n",
       "      <th>1</th>\n",
       "      <td>Tony Hawk's Pro Skater 2</td>\n",
       "      <td>PlayStation</td>\n",
       "      <td>September 20, 2000</td>\n",
       "      <td>98</td>\n",
       "      <td>7.4</td>\n",
       "      <td>NeversoftEntertainment</td>\n",
       "      <td>Sports,Alternative,Skateboarding</td>\n",
       "      <td>1-2</td>\n",
       "      <td>19</td>\n",
       "      <td>647</td>\n",
       "    </tr>\n",
       "    <tr>\n",
       "      <th>2</th>\n",
       "      <td>Grand Theft Auto IV</td>\n",
       "      <td>PlayStation3</td>\n",
       "      <td>April 29, 2008</td>\n",
       "      <td>98</td>\n",
       "      <td>7.6</td>\n",
       "      <td>RockstarNorth</td>\n",
       "      <td>Action Adventure,Modern,Modern,Open-World</td>\n",
       "      <td>1 Player</td>\n",
       "      <td>64</td>\n",
       "      <td>3806</td>\n",
       "    </tr>\n",
       "    <tr>\n",
       "      <th>3</th>\n",
       "      <td>SoulCalibur</td>\n",
       "      <td>Dreamcast</td>\n",
       "      <td>September 8, 1999</td>\n",
       "      <td>98</td>\n",
       "      <td>8.5</td>\n",
       "      <td>Namco</td>\n",
       "      <td>Action,Fighting,3D</td>\n",
       "      <td>1-2</td>\n",
       "      <td>24</td>\n",
       "      <td>324</td>\n",
       "    </tr>\n",
       "    <tr>\n",
       "      <th>4</th>\n",
       "      <td>Grand Theft Auto IV</td>\n",
       "      <td>Xbox360</td>\n",
       "      <td>April 29, 2008</td>\n",
       "      <td>98</td>\n",
       "      <td>7.9</td>\n",
       "      <td>RockstarNorth</td>\n",
       "      <td>Action Adventure,Modern,Modern,Open-World</td>\n",
       "      <td>1 Player</td>\n",
       "      <td>86</td>\n",
       "      <td>3364</td>\n",
       "    </tr>\n",
       "  </tbody>\n",
       "</table>\n",
       "</div>"
      ],
      "text/plain": [
       "                                   name      platform              r-date  \\\n",
       "0  The Legend of Zelda: Ocarina of Time    Nintendo64   November 23, 1998   \n",
       "1              Tony Hawk's Pro Skater 2   PlayStation  September 20, 2000   \n",
       "2                   Grand Theft Auto IV  PlayStation3      April 29, 2008   \n",
       "3                           SoulCalibur     Dreamcast   September 8, 1999   \n",
       "4                   Grand Theft Auto IV       Xbox360      April 29, 2008   \n",
       "\n",
       "   score user score               developer  \\\n",
       "0     99        9.1                Nintendo   \n",
       "1     98        7.4  NeversoftEntertainment   \n",
       "2     98        7.6           RockstarNorth   \n",
       "3     98        8.5                   Namco   \n",
       "4     98        7.9           RockstarNorth   \n",
       "\n",
       "                                       genre   players  critics  users  \n",
       "0                   Action Adventure,Fantasy  1 Player       22   5749  \n",
       "1           Sports,Alternative,Skateboarding      1-2        19    647  \n",
       "2  Action Adventure,Modern,Modern,Open-World  1 Player       64   3806  \n",
       "3                         Action,Fighting,3D      1-2        24    324  \n",
       "4  Action Adventure,Modern,Modern,Open-World  1 Player       86   3364  "
      ]
     },
     "execution_count": 3,
     "metadata": {},
     "output_type": "execute_result"
    }
   ],
   "source": [
    "df2 = pd.read_csv('games-data.csv')\n",
    "df2.head()"
   ]
  },
  {
   "cell_type": "code",
   "execution_count": 4,
   "id": "764bb78b-39be-4fd6-92f1-866045627085",
   "metadata": {},
   "outputs": [],
   "source": [
    "df2.shape\n",
    "f_df2 = df2[df2['platform'] == 'PC']"
   ]
  },
  {
   "cell_type": "code",
   "execution_count": 5,
   "id": "253ebafc-fb53-4346-a6c4-995d1eb56bf3",
   "metadata": {},
   "outputs": [
    {
     "data": {
      "text/plain": [
       "(1846, 10)"
      ]
     },
     "execution_count": 5,
     "metadata": {},
     "output_type": "execute_result"
    }
   ],
   "source": [
    "f2_df2 = f_df2[f_df2['name'].isin(filtered_df['name'])]\n",
    "f2_df2.shape"
   ]
  },
  {
   "cell_type": "code",
   "execution_count": 6,
   "id": "0b274e3b-fb99-4489-993c-fab9be278671",
   "metadata": {},
   "outputs": [
    {
     "data": {
      "text/plain": [
       "(1858, 41)"
      ]
     },
     "execution_count": 6,
     "metadata": {},
     "output_type": "execute_result"
    }
   ],
   "source": [
    "f2_df = filtered_df[filtered_df['name'].isin(f2_df2['name'])]\n",
    "f2_df.shape"
   ]
  },
  {
   "cell_type": "code",
   "execution_count": 7,
   "id": "6894ad03-619a-4a80-bab3-a70c347fe603",
   "metadata": {},
   "outputs": [
    {
     "name": "stdout",
     "output_type": "stream",
     "text": [
      "(1840, 10) (1840, 41)\n"
     ]
    },
    {
     "name": "stderr",
     "output_type": "stream",
     "text": [
      "C:\\Users\\yasis\\AppData\\Local\\Temp\\ipykernel_4788\\3233412353.py:1: SettingWithCopyWarning: \n",
      "A value is trying to be set on a copy of a slice from a DataFrame\n",
      "\n",
      "See the caveats in the documentation: https://pandas.pydata.org/pandas-docs/stable/user_guide/indexing.html#returning-a-view-versus-a-copy\n",
      "  f2_df2.drop_duplicates(subset='name', inplace=True)\n",
      "C:\\Users\\yasis\\AppData\\Local\\Temp\\ipykernel_4788\\3233412353.py:2: SettingWithCopyWarning: \n",
      "A value is trying to be set on a copy of a slice from a DataFrame\n",
      "\n",
      "See the caveats in the documentation: https://pandas.pydata.org/pandas-docs/stable/user_guide/indexing.html#returning-a-view-versus-a-copy\n",
      "  f2_df.drop_duplicates(subset='name', inplace=True)\n"
     ]
    }
   ],
   "source": [
    "f2_df2.drop_duplicates(subset='name', inplace=True)\n",
    "f2_df.drop_duplicates(subset='name', inplace=True)\n",
    "print(f2_df2.shape, f2_df.shape)"
   ]
  },
  {
   "cell_type": "code",
   "execution_count": 13,
   "id": "05c8d8b4-3d93-49cb-84e6-9e586976a18d",
   "metadata": {},
   "outputs": [],
   "source": [
    "f2_df.columns\n",
    "steam_columns_to_keep = [\n",
    "    'name', 'price', 'dlc_count', 'metacritic_score', 'achievements', 'genres',\n",
    "    'positive', 'negative', 'estimated_owners', \n",
    "    'average_playtime_forever', 'average_playtime_2weeks', \n",
    "    'median_playtime_forever', 'median_playtime_2weeks'\n",
    "]"
   ]
  },
  {
   "cell_type": "code",
   "execution_count": 15,
   "id": "04cb1724-c2f0-4003-9285-230caffd25e5",
   "metadata": {},
   "outputs": [],
   "source": [
    "f3_df = f2_df[steam_columns_to_keep]"
   ]
  },
  {
   "cell_type": "code",
   "execution_count": 17,
   "id": "fc278ba8-b7ed-4755-9afe-b0194ba08006",
   "metadata": {},
   "outputs": [],
   "source": [
    "f2_df2.columns\n",
    "mc_columns_to_keep = [\n",
    "    'name','r-date', 'score', 'user score', 'genre', 'critics', 'users'\n",
    "]"
   ]
  },
  {
   "cell_type": "code",
   "execution_count": 19,
   "id": "eb08d2b0-e523-47ef-8d63-2d217cce3f51",
   "metadata": {},
   "outputs": [
    {
     "data": {
      "text/html": [
       "<div>\n",
       "<style scoped>\n",
       "    .dataframe tbody tr th:only-of-type {\n",
       "        vertical-align: middle;\n",
       "    }\n",
       "\n",
       "    .dataframe tbody tr th {\n",
       "        vertical-align: top;\n",
       "    }\n",
       "\n",
       "    .dataframe thead th {\n",
       "        text-align: right;\n",
       "    }\n",
       "</style>\n",
       "<table border=\"1\" class=\"dataframe\">\n",
       "  <thead>\n",
       "    <tr style=\"text-align: right;\">\n",
       "      <th></th>\n",
       "      <th>name</th>\n",
       "      <th>r-date</th>\n",
       "      <th>score</th>\n",
       "      <th>user score</th>\n",
       "      <th>genre</th>\n",
       "      <th>critics</th>\n",
       "      <th>users</th>\n",
       "    </tr>\n",
       "  </thead>\n",
       "  <tbody>\n",
       "    <tr>\n",
       "      <th>22</th>\n",
       "      <td>Half-Life 2</td>\n",
       "      <td>November 16, 2004</td>\n",
       "      <td>96</td>\n",
       "      <td>9.1</td>\n",
       "      <td>Action,Shooter,Shooter,First-Person,Sci-Fi,Sci...</td>\n",
       "      <td>81</td>\n",
       "      <td>10773</td>\n",
       "    </tr>\n",
       "    <tr>\n",
       "      <th>23</th>\n",
       "      <td>Grand Theft Auto V</td>\n",
       "      <td>April 13, 2015</td>\n",
       "      <td>96</td>\n",
       "      <td>7.8</td>\n",
       "      <td>Modern,Action Adventure,Open-World</td>\n",
       "      <td>57</td>\n",
       "      <td>6661</td>\n",
       "    </tr>\n",
       "    <tr>\n",
       "      <th>36</th>\n",
       "      <td>Half-Life</td>\n",
       "      <td>November 19, 1998</td>\n",
       "      <td>96</td>\n",
       "      <td>9.0</td>\n",
       "      <td>Action,Shooter,Shooter,First-Person,Sci-Fi,Sci...</td>\n",
       "      <td>24</td>\n",
       "      <td>4321</td>\n",
       "    </tr>\n",
       "    <tr>\n",
       "      <th>59</th>\n",
       "      <td>Portal 2</td>\n",
       "      <td>April 18, 2011</td>\n",
       "      <td>95</td>\n",
       "      <td>9.1</td>\n",
       "      <td>Action,Shooter,Shooter,First-Person,Sci-Fi,Sci...</td>\n",
       "      <td>52</td>\n",
       "      <td>7482</td>\n",
       "    </tr>\n",
       "    <tr>\n",
       "      <th>65</th>\n",
       "      <td>The Elder Scrolls V: Skyrim</td>\n",
       "      <td>November 10, 2011</td>\n",
       "      <td>94</td>\n",
       "      <td>8.3</td>\n",
       "      <td>Role-Playing,First-Person,First-Person,Western...</td>\n",
       "      <td>32</td>\n",
       "      <td>11301</td>\n",
       "    </tr>\n",
       "  </tbody>\n",
       "</table>\n",
       "</div>"
      ],
      "text/plain": [
       "                           name             r-date  score user score  \\\n",
       "22                  Half-Life 2  November 16, 2004     96        9.1   \n",
       "23           Grand Theft Auto V     April 13, 2015     96        7.8   \n",
       "36                    Half-Life  November 19, 1998     96        9.0   \n",
       "59                     Portal 2     April 18, 2011     95        9.1   \n",
       "65  The Elder Scrolls V: Skyrim  November 10, 2011     94        8.3   \n",
       "\n",
       "                                                genre  critics  users  \n",
       "22  Action,Shooter,Shooter,First-Person,Sci-Fi,Sci...       81  10773  \n",
       "23                 Modern,Action Adventure,Open-World       57   6661  \n",
       "36  Action,Shooter,Shooter,First-Person,Sci-Fi,Sci...       24   4321  \n",
       "59  Action,Shooter,Shooter,First-Person,Sci-Fi,Sci...       52   7482  \n",
       "65  Role-Playing,First-Person,First-Person,Western...       32  11301  "
      ]
     },
     "execution_count": 19,
     "metadata": {},
     "output_type": "execute_result"
    }
   ],
   "source": [
    "f3_df2 = f2_df2[mc_columns_to_keep]\n",
    "f3_df2.head()"
   ]
  },
  {
   "cell_type": "code",
   "execution_count": 21,
   "id": "26f426a4-0f17-4935-bc55-d8bce3dae5bb",
   "metadata": {},
   "outputs": [
    {
     "data": {
      "text/html": [
       "<div>\n",
       "<style scoped>\n",
       "    .dataframe tbody tr th:only-of-type {\n",
       "        vertical-align: middle;\n",
       "    }\n",
       "\n",
       "    .dataframe tbody tr th {\n",
       "        vertical-align: top;\n",
       "    }\n",
       "\n",
       "    .dataframe thead th {\n",
       "        text-align: right;\n",
       "    }\n",
       "</style>\n",
       "<table border=\"1\" class=\"dataframe\">\n",
       "  <thead>\n",
       "    <tr style=\"text-align: right;\">\n",
       "      <th></th>\n",
       "      <th>name</th>\n",
       "      <th>r-date</th>\n",
       "      <th>score</th>\n",
       "      <th>user score</th>\n",
       "      <th>genre</th>\n",
       "      <th>critics</th>\n",
       "      <th>users</th>\n",
       "      <th>price</th>\n",
       "      <th>dlc_count</th>\n",
       "      <th>metacritic_score</th>\n",
       "      <th>achievements</th>\n",
       "      <th>genres</th>\n",
       "      <th>positive</th>\n",
       "      <th>negative</th>\n",
       "      <th>estimated_owners</th>\n",
       "      <th>average_playtime_forever</th>\n",
       "      <th>average_playtime_2weeks</th>\n",
       "      <th>median_playtime_forever</th>\n",
       "      <th>median_playtime_2weeks</th>\n",
       "    </tr>\n",
       "  </thead>\n",
       "  <tbody>\n",
       "    <tr>\n",
       "      <th>0</th>\n",
       "      <td>Half-Life 2</td>\n",
       "      <td>November 16, 2004</td>\n",
       "      <td>96</td>\n",
       "      <td>9.1</td>\n",
       "      <td>Action,Shooter,Shooter,First-Person,Sci-Fi,Sci...</td>\n",
       "      <td>81</td>\n",
       "      <td>10773</td>\n",
       "      <td>9.99</td>\n",
       "      <td>1</td>\n",
       "      <td>96</td>\n",
       "      <td>33</td>\n",
       "      <td>[Action]</td>\n",
       "      <td>142368</td>\n",
       "      <td>3687</td>\n",
       "      <td>10000000 - 20000000</td>\n",
       "      <td>606</td>\n",
       "      <td>185</td>\n",
       "      <td>311</td>\n",
       "      <td>315</td>\n",
       "    </tr>\n",
       "    <tr>\n",
       "      <th>1</th>\n",
       "      <td>Grand Theft Auto V</td>\n",
       "      <td>April 13, 2015</td>\n",
       "      <td>96</td>\n",
       "      <td>7.8</td>\n",
       "      <td>Modern,Action Adventure,Open-World</td>\n",
       "      <td>57</td>\n",
       "      <td>6661</td>\n",
       "      <td>0.00</td>\n",
       "      <td>1</td>\n",
       "      <td>96</td>\n",
       "      <td>77</td>\n",
       "      <td>[Action, Adventure]</td>\n",
       "      <td>1171197</td>\n",
       "      <td>210154</td>\n",
       "      <td>20000000 - 50000000</td>\n",
       "      <td>13650</td>\n",
       "      <td>656</td>\n",
       "      <td>6274</td>\n",
       "      <td>154</td>\n",
       "    </tr>\n",
       "    <tr>\n",
       "      <th>2</th>\n",
       "      <td>Half-Life</td>\n",
       "      <td>November 19, 1998</td>\n",
       "      <td>96</td>\n",
       "      <td>9.0</td>\n",
       "      <td>Action,Shooter,Shooter,First-Person,Sci-Fi,Sci...</td>\n",
       "      <td>24</td>\n",
       "      <td>4321</td>\n",
       "      <td>9.99</td>\n",
       "      <td>1</td>\n",
       "      <td>96</td>\n",
       "      <td>0</td>\n",
       "      <td>[Action]</td>\n",
       "      <td>73346</td>\n",
       "      <td>2619</td>\n",
       "      <td>5000000 - 10000000</td>\n",
       "      <td>459</td>\n",
       "      <td>102</td>\n",
       "      <td>127</td>\n",
       "      <td>102</td>\n",
       "    </tr>\n",
       "    <tr>\n",
       "      <th>3</th>\n",
       "      <td>Portal 2</td>\n",
       "      <td>April 18, 2011</td>\n",
       "      <td>95</td>\n",
       "      <td>9.1</td>\n",
       "      <td>Action,Shooter,Shooter,First-Person,Sci-Fi,Sci...</td>\n",
       "      <td>52</td>\n",
       "      <td>7482</td>\n",
       "      <td>9.99</td>\n",
       "      <td>1</td>\n",
       "      <td>95</td>\n",
       "      <td>51</td>\n",
       "      <td>[Action, Adventure]</td>\n",
       "      <td>298300</td>\n",
       "      <td>3638</td>\n",
       "      <td>10000000 - 20000000</td>\n",
       "      <td>874</td>\n",
       "      <td>118</td>\n",
       "      <td>514</td>\n",
       "      <td>138</td>\n",
       "    </tr>\n",
       "    <tr>\n",
       "      <th>4</th>\n",
       "      <td>The Elder Scrolls V: Skyrim</td>\n",
       "      <td>November 10, 2011</td>\n",
       "      <td>94</td>\n",
       "      <td>8.3</td>\n",
       "      <td>Role-Playing,First-Person,First-Person,Western...</td>\n",
       "      <td>32</td>\n",
       "      <td>11301</td>\n",
       "      <td>19.99</td>\n",
       "      <td>1</td>\n",
       "      <td>94</td>\n",
       "      <td>75</td>\n",
       "      <td>[RPG]</td>\n",
       "      <td>293938</td>\n",
       "      <td>16035</td>\n",
       "      <td>5000000 - 10000000</td>\n",
       "      <td>6458</td>\n",
       "      <td>596</td>\n",
       "      <td>3032</td>\n",
       "      <td>878</td>\n",
       "    </tr>\n",
       "  </tbody>\n",
       "</table>\n",
       "</div>"
      ],
      "text/plain": [
       "                          name             r-date  score user score  \\\n",
       "0                  Half-Life 2  November 16, 2004     96        9.1   \n",
       "1           Grand Theft Auto V     April 13, 2015     96        7.8   \n",
       "2                    Half-Life  November 19, 1998     96        9.0   \n",
       "3                     Portal 2     April 18, 2011     95        9.1   \n",
       "4  The Elder Scrolls V: Skyrim  November 10, 2011     94        8.3   \n",
       "\n",
       "                                               genre  critics  users  price  \\\n",
       "0  Action,Shooter,Shooter,First-Person,Sci-Fi,Sci...       81  10773   9.99   \n",
       "1                 Modern,Action Adventure,Open-World       57   6661   0.00   \n",
       "2  Action,Shooter,Shooter,First-Person,Sci-Fi,Sci...       24   4321   9.99   \n",
       "3  Action,Shooter,Shooter,First-Person,Sci-Fi,Sci...       52   7482   9.99   \n",
       "4  Role-Playing,First-Person,First-Person,Western...       32  11301  19.99   \n",
       "\n",
       "   dlc_count  metacritic_score  achievements               genres  positive  \\\n",
       "0          1                96            33             [Action]    142368   \n",
       "1          1                96            77  [Action, Adventure]   1171197   \n",
       "2          1                96             0             [Action]     73346   \n",
       "3          1                95            51  [Action, Adventure]    298300   \n",
       "4          1                94            75                [RPG]    293938   \n",
       "\n",
       "   negative     estimated_owners  average_playtime_forever  \\\n",
       "0      3687  10000000 - 20000000                       606   \n",
       "1    210154  20000000 - 50000000                     13650   \n",
       "2      2619   5000000 - 10000000                       459   \n",
       "3      3638  10000000 - 20000000                       874   \n",
       "4     16035   5000000 - 10000000                      6458   \n",
       "\n",
       "   average_playtime_2weeks  median_playtime_forever  median_playtime_2weeks  \n",
       "0                      185                      311                     315  \n",
       "1                      656                     6274                     154  \n",
       "2                      102                      127                     102  \n",
       "3                      118                      514                     138  \n",
       "4                      596                     3032                     878  "
      ]
     },
     "execution_count": 21,
     "metadata": {},
     "output_type": "execute_result"
    }
   ],
   "source": [
    "merged_df = pd.merge(f3_df2, f3_df, on='name', how='inner')\n",
    "merged_df.head()"
   ]
  },
  {
   "cell_type": "code",
   "execution_count": 23,
   "id": "a74a432f-2de8-4ca3-b307-f6b970fd1537",
   "metadata": {},
   "outputs": [
    {
     "data": {
      "text/plain": [
       "(1840, 19)"
      ]
     },
     "execution_count": 23,
     "metadata": {},
     "output_type": "execute_result"
    }
   ],
   "source": [
    "merged_df.shape"
   ]
  },
  {
   "cell_type": "code",
   "execution_count": 25,
   "id": "214121cd-a1af-4747-8197-fc58a046ebfc",
   "metadata": {},
   "outputs": [],
   "source": [
    "merged_df.to_csv('merged_trimmed_data.csv', index=False)"
   ]
  },
  {
   "cell_type": "code",
   "execution_count": null,
   "id": "a6b50728-4866-4b57-a3b5-4cad01147018",
   "metadata": {},
   "outputs": [],
   "source": []
  }
 ],
 "metadata": {
  "kernelspec": {
   "display_name": "Python 3 (ipykernel)",
   "language": "python",
   "name": "python3"
  },
  "language_info": {
   "codemirror_mode": {
    "name": "ipython",
    "version": 3
   },
   "file_extension": ".py",
   "mimetype": "text/x-python",
   "name": "python",
   "nbconvert_exporter": "python",
   "pygments_lexer": "ipython3",
   "version": "3.11.7"
  }
 },
 "nbformat": 4,
 "nbformat_minor": 5
}
